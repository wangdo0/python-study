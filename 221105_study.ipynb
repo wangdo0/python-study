{
 "cells": [
  {
   "cell_type": "code",
   "execution_count": 18,
   "metadata": {},
   "outputs": [
    {
     "name": "stdout",
     "output_type": "stream",
     "text": [
      "사용법은 Student (name, age, like)\n",
      "Studnet(조항현) 생성!\n",
      "이름:조항현, 나이:29, 좋아하는것:축구\n",
      "Studnet(조항현) 소멸!\n"
     ]
    }
   ],
   "source": [
    "# 클래스의 구성 요소\n",
    "# 1. 멤버 변수\n",
    "# 2. 멤버 함수\n",
    "#   - 생성자: 인스턴스가 생성될 때 자동으로 실행이 됨\n",
    "#   - 소멸자: 인스턴스가 소멸될 때 자동으로 소멸이 됨\n",
    "\n",
    "class Student():\n",
    "    # 생성자\n",
    "    def __init__(self,name,age,like):\n",
    "        self.name = name\n",
    "        self.age = age\n",
    "        self.like = like\n",
    "        print(f\"Studnet({self.name}) 생성!\")\n",
    "    \n",
    "    # 멤버 함수\n",
    "    def studentInfo(self):\n",
    "        print(f\"이름:{self.name}, 나이:{self.age}, 좋아하는것:{self.like}\")\n",
    "        \n",
    "        \n",
    "\n",
    "def main():\n",
    "    조항현 = Student(\"조항현\", 29, \"축구\")\n",
    "    조항현.studentInfo()\n",
    "    \n",
    "main()\n",
    "\n",
    "\n",
    "#김철수 = Student(\"김철수\",17,\"축구\")\n",
    "#장다인 = Student(\"장다인\",5,\"헬로카봇\")\n",
    "#김철수.studentInfo()\n",
    "#장다인.studentInfo()"
   ]
  },
  {
   "cell_type": "code",
   "execution_count": 34,
   "metadata": {},
   "outputs": [
    {
     "name": "stdout",
     "output_type": "stream",
     "text": [
      "POWER: ON, SPEED: 500\n",
      "POWER: ON, BRAND: 커세어\n",
      "POWER: ON, SPEED: 500\n",
      "POWER: ON, SPEED: 500\n"
     ]
    }
   ],
   "source": [
    "class Fan():\n",
    "    def __init__(self):\n",
    "        self.power = False\n",
    "        self.rpm = 500\n",
    "        self.speed = 0\n",
    "        \n",
    "    def printInfo(self):\n",
    "        print(f\"POWER: {'ON' if self.power == True else 'OFF'}, SPEED: {self.speed}\")\n",
    "        \n",
    "    def powerOn(self):\n",
    "        self.power = True\n",
    "        self.speed = self.rpm\n",
    "        \n",
    "    def powerOff(self):\n",
    "        self.power = False\n",
    "        self.speed = 0\n",
    "\n",
    "호우컴_케이스_전면_팬_01 = Fan()\n",
    "호우컴_케이스_전면_팬_01.powerOn()\n",
    "호우컴_케이스_전면_팬_01.printInfo()\n",
    "\n",
    "class ComputerCase():\n",
    "    def __init__(self, formFactor, brand):\n",
    "        self.formFactor = formFactor\n",
    "        self.brand = brand\n",
    "        self.power = False\n",
    "        self.fan1 = Fan()\n",
    "        self.fan2 = Fan()\n",
    "    \n",
    "    def printInfo(self):\n",
    "        print(f\"POWER: {'ON' if self.power == True else 'OFF'}, BRAND: {self.brand}\")\n",
    "        self.fan1.printInfo()\n",
    "        self.fan2.printInfo()\n",
    "        \n",
    "    def controlFan(self, action):\n",
    "        print(\"팬을 {action}\")\n",
    "        \n",
    "    def powerOn(self):\n",
    "        self.power = True\n",
    "        self.fan1.powerOn()\n",
    "        self.fan2.powerOn()\n",
    "        \n",
    "    def powerOff(self):\n",
    "        self.power = False\n",
    "        self.fan1.powerOff()\n",
    "        self.fan2.powerOff()\n",
    "    \n",
    "호우컴_케이스_01 = ComputerCase('ATX', '커세어')\n",
    "호우컴_케이스_01.powerOn()\n",
    "호우컴_케이스_01.printInfo()\n"
   ]
  },
  {
   "cell_type": "code",
   "execution_count": 51,
   "metadata": {},
   "outputs": [
    {
     "name": "stdout",
     "output_type": "stream",
     "text": [
      "CAMERA LIGHT: ON\n"
     ]
    }
   ],
   "source": [
    "# 스마트 폰 클래스를 만들고\n",
    "# 카메라 클래스를 만들자\n",
    "# 카메라에 FlashOn 함수를 만들고\n",
    "# 스마트폰의 LightOn 함수에서 연동이 되게 해보자\n",
    "\n",
    "class camera():\n",
    "    def __init__(self):\n",
    "        self.light = False\n",
    "        \n",
    "    def powerOn(self):\n",
    "        self.light = True\n",
    "        \n",
    "    def powerOff(self):\n",
    "        self.light = False\n",
    "        \n",
    "    def printInfo(self):\n",
    "        print(f\"CAMERA LIGHT: {'ON' if self.light == True else 'OFF'}\")\n",
    "\n",
    "\n",
    "class smartphone():\n",
    "    def __init__(self):\n",
    "        self.camera1 = camera()\n",
    "        \n",
    "    def LightOn(self):\n",
    "        self.camera1.powerOn()\n",
    "        \n",
    "    def LightOff(self):\n",
    "        self.camera1.powerOff()\n",
    "        \n",
    "    def printInfo(self):\n",
    "        self.camera1.printInfo()\n",
    "        \n",
    "스마트폰 = smartphone()\n",
    "스마트폰.LightOn()\n",
    "스마트폰.printInfo()\n",
    "   "
   ]
  }
 ],
 "metadata": {
  "kernelspec": {
   "display_name": "Python 3.9.13 ('base')",
   "language": "python",
   "name": "python3"
  },
  "language_info": {
   "codemirror_mode": {
    "name": "ipython",
    "version": 3
   },
   "file_extension": ".py",
   "mimetype": "text/x-python",
   "name": "python",
   "nbconvert_exporter": "python",
   "pygments_lexer": "ipython3",
   "version": "3.9.13"
  },
  "orig_nbformat": 4,
  "vscode": {
   "interpreter": {
    "hash": "2a49e2d5a2e24894d0076b8ae8d12c53a67fb1c0f401bee2d0f45c6affe4905d"
   }
  }
 },
 "nbformat": 4,
 "nbformat_minor": 2
}
