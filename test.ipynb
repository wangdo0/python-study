{
 "cells": [
  {
   "cell_type": "code",
   "execution_count": 3,
   "metadata": {},
   "outputs": [
    {
     "name": "stdout",
     "output_type": "stream",
     "text": [
      "0\n",
      "1\n",
      "2\n",
      "3\n",
      "4\n"
     ]
    }
   ],
   "source": [
    "a = 0\n",
    "while True:\n",
    "    print(a)\n",
    "    a = a+1\n",
    "    if a>=5:\n",
    "        break\n",
    "\n"
   ]
  },
  {
   "cell_type": "code",
   "execution_count": 9,
   "metadata": {},
   "outputs": [
    {
     "name": "stdout",
     "output_type": "stream",
     "text": [
      "0\n",
      "10\n",
      "20\n",
      "30\n",
      "40\n",
      "50\n",
      "60\n",
      "70\n"
     ]
    }
   ],
   "source": [
    "import time\n",
    "speed = 0\n",
    "while True:\n",
    "    print(speed)\n",
    "    speed = speed + 10\n",
    "    if speed>=80:\n",
    "        break\n",
    "    time.sleep(1)"
   ]
  },
  {
   "cell_type": "code",
   "execution_count": 38,
   "metadata": {},
   "outputs": [
    {
     "name": "stdout",
     "output_type": "stream",
     "text": [
      "1 79\n",
      "2 86\n",
      "3 76\n",
      "3 241\n"
     ]
    }
   ],
   "source": [
    "import random\n",
    "import time\n",
    "\n",
    "\n",
    "\n",
    "def speed80(speed):\n",
    "    # input값도 변수로 들어감\n",
    "    distance = 0\n",
    "    hour = 0\n",
    "    accel = False\n",
    "    breakpedal = False\n",
    "    \n",
    "    while True:\n",
    "        if speed<80:\n",
    "            accel = True\n",
    "            breakpedal = False\n",
    "            \n",
    "        if speed>=80:\n",
    "            accel = False\n",
    "            breakpedal = True\n",
    "            \n",
    "        if accel:\n",
    "            speed = speed + 7 + random.randrange(0,3)\n",
    "            \n",
    "        if breakpedal:\n",
    "            speed = speed - 10\n",
    "            \n",
    "        hour = hour + 1\n",
    "        distance = distance + speed\n",
    "        \n",
    "        \n",
    "        print(hour, speed)\n",
    "        \n",
    "        if distance >= 200:\n",
    "            break\n",
    "        \n",
    "        time.sleep(1)\n",
    "        \n",
    "    return hour, distance\n",
    "    #return값이 output\n",
    "\n",
    "a,b = speed80(70)\n",
    "#70을 input 값으로 입력, output은 a,b\n",
    "print(a,b)\n",
    "        "
   ]
  }
 ],
 "metadata": {
  "kernelspec": {
   "display_name": "Python 3.9.13 ('base')",
   "language": "python",
   "name": "python3"
  },
  "language_info": {
   "codemirror_mode": {
    "name": "ipython",
    "version": 3
   },
   "file_extension": ".py",
   "mimetype": "text/x-python",
   "name": "python",
   "nbconvert_exporter": "python",
   "pygments_lexer": "ipython3",
   "version": "3.9.13"
  },
  "orig_nbformat": 4,
  "vscode": {
   "interpreter": {
    "hash": "2479eb784c6ea48f4334f88b3acdb9e86c0bcf8a983dbd84f82863fc6458c5b1"
   }
  }
 },
 "nbformat": 4,
 "nbformat_minor": 2
}
