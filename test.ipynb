{
 "cells": [
  {
   "cell_type": "code",
   "execution_count": 3,
   "metadata": {},
   "outputs": [
    {
     "name": "stdout",
     "output_type": "stream",
     "text": [
      "0\n",
      "1\n",
      "2\n",
      "3\n",
      "4\n"
     ]
    }
   ],
   "source": [
    "a = 0\n",
    "while True:\n",
    "    print(a)\n",
    "    a = a+1\n",
    "    if a>=5:\n",
    "        break\n",
    "\n"
   ]
  },
  {
   "cell_type": "code",
   "execution_count": 9,
   "metadata": {},
   "outputs": [
    {
     "name": "stdout",
     "output_type": "stream",
     "text": [
      "0\n",
      "10\n",
      "20\n",
      "30\n",
      "40\n",
      "50\n",
      "60\n",
      "70\n"
     ]
    }
   ],
   "source": [
    "import time\n",
    "speed = 0\n",
    "while True:\n",
    "    print(speed)\n",
    "    speed = speed + 10\n",
    "    if speed>=80:\n",
    "        break\n",
    "    time.sleep(1)"
   ]
  },
  {
   "cell_type": "code",
   "execution_count": 1,
   "metadata": {},
   "outputs": [
    {
     "name": "stdout",
     "output_type": "stream",
     "text": [
      "1 78\n",
      "2 86\n",
      "3 76\n",
      "3 240\n"
     ]
    }
   ],
   "source": [
    "import random\n",
    "import time\n",
    "\n",
    "\n",
    "\n",
    "def speed80(speed):\n",
    "    # input값도 변수로 들어감\n",
    "    distance = 0\n",
    "    hour = 0\n",
    "    accel = False\n",
    "    breakpedal = False\n",
    "    \n",
    "    while True:\n",
    "        if speed<80:\n",
    "            accel = True\n",
    "            breakpedal = False\n",
    "            \n",
    "        if speed>=80:\n",
    "            accel = False\n",
    "            breakpedal = True\n",
    "            \n",
    "        if accel:\n",
    "            speed = speed + 7 + random.randrange(0,3)\n",
    "            \n",
    "        if breakpedal:\n",
    "            speed = speed - 10\n",
    "            \n",
    "        hour = hour + 1\n",
    "        distance = distance + speed\n",
    "        \n",
    "        \n",
    "        print(hour, speed)\n",
    "        \n",
    "        if distance >= 200:\n",
    "            break\n",
    "        \n",
    "        time.sleep(1)\n",
    "        \n",
    "    return hour, distance\n",
    "    #return값이 output\n",
    "\n",
    "a,b = speed80(70)\n",
    "#70을 input 값으로 입력, output은 a,b\n",
    "print(a,b)\n",
    "        "
   ]
  },
  {
   "cell_type": "code",
   "execution_count": 1,
   "metadata": {},
   "outputs": [
    {
     "ename": "UnboundLocalError",
     "evalue": "local variable 'x' referenced before assignment",
     "output_type": "error",
     "traceback": [
      "\u001b[0;31m---------------------------------------------------------------------------\u001b[0m",
      "\u001b[0;31mUnboundLocalError\u001b[0m                         Traceback (most recent call last)",
      "\u001b[0;32m/var/folders/1z/3d93602d6m788cd8qllbj_0w0000gn/T/ipykernel_1171/1278255955.py\u001b[0m in \u001b[0;36m<module>\u001b[0;34m\u001b[0m\n\u001b[1;32m     56\u001b[0m \u001b[0;34m\u001b[0m\u001b[0m\n\u001b[1;32m     57\u001b[0m \u001b[0;34m\u001b[0m\u001b[0m\n\u001b[0;32m---> 58\u001b[0;31m \u001b[0mmain\u001b[0m\u001b[0;34m(\u001b[0m\u001b[0;34m)\u001b[0m\u001b[0;34m\u001b[0m\u001b[0;34m\u001b[0m\u001b[0m\n\u001b[0m",
      "\u001b[0;32m/var/folders/1z/3d93602d6m788cd8qllbj_0w0000gn/T/ipykernel_1171/1278255955.py\u001b[0m in \u001b[0;36mmain\u001b[0;34m()\u001b[0m\n\u001b[1;32m     51\u001b[0m \u001b[0;32mdef\u001b[0m \u001b[0mmain\u001b[0m\u001b[0;34m(\u001b[0m\u001b[0;34m)\u001b[0m\u001b[0;34m:\u001b[0m\u001b[0;34m\u001b[0m\u001b[0;34m\u001b[0m\u001b[0m\n\u001b[1;32m     52\u001b[0m   \u001b[0;32mfor\u001b[0m \u001b[0mi\u001b[0m \u001b[0;32min\u001b[0m \u001b[0mrange\u001b[0m\u001b[0;34m(\u001b[0m\u001b[0;36m100\u001b[0m\u001b[0;34m)\u001b[0m\u001b[0;34m:\u001b[0m\u001b[0;34m\u001b[0m\u001b[0;34m\u001b[0m\u001b[0m\n\u001b[0;32m---> 53\u001b[0;31m     \u001b[0mrender\u001b[0m\u001b[0;34m(\u001b[0m\u001b[0;34m[\u001b[0m\u001b[0mx\u001b[0m\u001b[0;34m,\u001b[0m \u001b[0my\u001b[0m\u001b[0;34m]\u001b[0m\u001b[0;34m)\u001b[0m\u001b[0;34m\u001b[0m\u001b[0;34m\u001b[0m\u001b[0m\n\u001b[0m\u001b[1;32m     54\u001b[0m     \u001b[0mx\u001b[0m\u001b[0;34m,\u001b[0m \u001b[0my\u001b[0m\u001b[0;34m,\u001b[0m \u001b[0mdirectionX\u001b[0m\u001b[0;34m,\u001b[0m \u001b[0mdirectionY\u001b[0m \u001b[0;34m=\u001b[0m \u001b[0mmove\u001b[0m\u001b[0;34m(\u001b[0m\u001b[0mx\u001b[0m\u001b[0;34m,\u001b[0m \u001b[0my\u001b[0m\u001b[0;34m,\u001b[0m \u001b[0mdirectionX\u001b[0m\u001b[0;34m,\u001b[0m \u001b[0mdirectionY\u001b[0m\u001b[0;34m)\u001b[0m\u001b[0;34m\u001b[0m\u001b[0;34m\u001b[0m\u001b[0m\n\u001b[1;32m     55\u001b[0m     \u001b[0mtime\u001b[0m\u001b[0;34m.\u001b[0m\u001b[0msleep\u001b[0m\u001b[0;34m(\u001b[0m\u001b[0;36m0.3\u001b[0m\u001b[0;34m)\u001b[0m\u001b[0;34m\u001b[0m\u001b[0;34m\u001b[0m\u001b[0m\n",
      "\u001b[0;31mUnboundLocalError\u001b[0m: local variable 'x' referenced before assignment"
     ]
    }
   ],
   "source": [
    "import time, random, copy\n",
    "from IPython.display import clear_output\n",
    "\n",
    "# Initial values\n",
    "screenSizeX = 40\n",
    "screenSizeY = 15\n",
    "screen = [[' '] * screenSizeX for _ in range(screenSizeY)]\n",
    "x, y, directionX, directionY = 0, 4, 'down', 'left'\n",
    "\n",
    "def move(x, y, initialDirectionX, initialDirectionY):\n",
    "  directionX = initialDirectionX\n",
    "  directionY = initialDirectionY\n",
    "  if (initialDirectionX == 'up'):\n",
    "    if x == 0:\n",
    "      x += 1\n",
    "      directionX = 'down'\n",
    "    else:\n",
    "      x -= 1\n",
    "  if (initialDirectionX == 'down'):\n",
    "    if x == screenSizeX - 1:\n",
    "      x -= 1\n",
    "      directionX = 'up'\n",
    "    else:\n",
    "      x += 1\n",
    "  if (initialDirectionY == 'left'):\n",
    "    if y == 0:\n",
    "      y += 1\n",
    "      directionY = 'right'\n",
    "    else:\n",
    "      y -= 1\n",
    "  if (initialDirectionY == 'right'):\n",
    "    if y == screenSizeY - 1:\n",
    "      y -= 1\n",
    "      directionY = 'left'\n",
    "    else:\n",
    "      y += 1\n",
    "\n",
    "  return x, y, directionX, directionY\n",
    "\n",
    "def render(object):\n",
    "  screen[object[1]][object[0]] = '*'\n",
    "  clear_output(wait=True)\n",
    "  print('-' * (screenSizeX + 4))\n",
    "  for row in screen:\n",
    "    print('|', ''.join(row), '|')\n",
    "  print('-' * (screenSizeX + 4))\n",
    "  lastFootPrint = object\n",
    "  screen[lastFootPrint[1]][lastFootPrint[0]] = 'O'\n",
    "\n",
    "\n",
    "def main():\n",
    "  for i in range(100):\n",
    "    render([x, y])\n",
    "    x, y, directionX, directionY = move(x, y, directionX, directionY)\n",
    "    time.sleep(0.3)\n",
    "\n",
    "\n",
    "main()"
   ]
  },
  {
   "cell_type": "code",
   "execution_count": 4,
   "metadata": {},
   "outputs": [
    {
     "name": "stdout",
     "output_type": "stream",
     "text": [
      "100m\n",
      "지원하지 않는 단위입니다.: xx\n",
      "지원하지 않는 단위입니다.: yard\n",
      "지원하지 않는 단위입니다.: ft\n",
      "지원하지 않는 단위입니다.: mile\n"
     ]
    }
   ],
   "source": [
    "def toMeter(unit, value):\n",
    "    if unit == 'in' or unit == 'inch':\n",
    "        return value\n",
    "    else:\n",
    "        raise Exception('지원하지 않는 단위입니다.: {}'.format(unit))\n",
    "\n",
    "\n",
    "testSet = [\n",
    "  ['in', 100],\n",
    "  ['xx', 100],\n",
    "  ['yard', 100],\n",
    "  ['ft', 100],\n",
    "  ['mile', 100],\n",
    "]\n",
    "\n",
    "for unit, value in testSet:\n",
    "  try:\n",
    "    result = toMeter(unit, value)\n",
    "    print(str(result) + 'm')\n",
    "  except Exception as e:\n",
    "    print(e)"
   ]
  },
  {
   "cell_type": "code",
   "execution_count": 7,
   "metadata": {},
   "outputs": [
    {
     "name": "stdout",
     "output_type": "stream",
     "text": [
      "Draw Yut Sticks Game\n",
      "([ x  ] is for back-do)\n",
      "----------------------------------\n",
      " 6 | [XXXX] [    ] [XXXX] [XXXX] |\r"
     ]
    },
    {
     "ename": "KeyboardInterrupt",
     "evalue": "",
     "output_type": "error",
     "traceback": [
      "\u001b[0;31m---------------------------------------------------------------------------\u001b[0m",
      "\u001b[0;31mKeyboardInterrupt\u001b[0m                         Traceback (most recent call last)",
      "\u001b[0;32m/var/folders/1z/3d93602d6m788cd8qllbj_0w0000gn/T/ipykernel_1171/2128132146.py\u001b[0m in \u001b[0;36m<module>\u001b[0;34m\u001b[0m\n\u001b[1;32m     26\u001b[0m     \u001b[0mtime\u001b[0m\u001b[0;34m.\u001b[0m\u001b[0msleep\u001b[0m\u001b[0;34m(\u001b[0m\u001b[0;36m1\u001b[0m\u001b[0;34m)\u001b[0m\u001b[0;34m\u001b[0m\u001b[0;34m\u001b[0m\u001b[0m\n\u001b[1;32m     27\u001b[0m \u001b[0;34m\u001b[0m\u001b[0m\n\u001b[0;32m---> 28\u001b[0;31m \u001b[0mmain\u001b[0m\u001b[0;34m(\u001b[0m\u001b[0;34m)\u001b[0m\u001b[0;34m\u001b[0m\u001b[0;34m\u001b[0m\u001b[0m\n\u001b[0m",
      "\u001b[0;32m/var/folders/1z/3d93602d6m788cd8qllbj_0w0000gn/T/ipykernel_1171/2128132146.py\u001b[0m in \u001b[0;36mmain\u001b[0;34m()\u001b[0m\n\u001b[1;32m     24\u001b[0m     \u001b[0myutResult\u001b[0m \u001b[0;34m=\u001b[0m \u001b[0mdrawYutSticks\u001b[0m\u001b[0;34m(\u001b[0m\u001b[0;34m)\u001b[0m\u001b[0;34m\u001b[0m\u001b[0;34m\u001b[0m\u001b[0m\n\u001b[1;32m     25\u001b[0m     \u001b[0mprintYutSticks\u001b[0m\u001b[0;34m(\u001b[0m\u001b[0myutResult\u001b[0m\u001b[0;34m,\u001b[0m \u001b[0mx\u001b[0m \u001b[0;34m+\u001b[0m \u001b[0;36m1\u001b[0m\u001b[0;34m)\u001b[0m\u001b[0;34m\u001b[0m\u001b[0;34m\u001b[0m\u001b[0m\n\u001b[0;32m---> 26\u001b[0;31m     \u001b[0mtime\u001b[0m\u001b[0;34m.\u001b[0m\u001b[0msleep\u001b[0m\u001b[0;34m(\u001b[0m\u001b[0;36m1\u001b[0m\u001b[0;34m)\u001b[0m\u001b[0;34m\u001b[0m\u001b[0;34m\u001b[0m\u001b[0m\n\u001b[0m\u001b[1;32m     27\u001b[0m \u001b[0;34m\u001b[0m\u001b[0m\n\u001b[1;32m     28\u001b[0m \u001b[0mmain\u001b[0m\u001b[0;34m(\u001b[0m\u001b[0;34m)\u001b[0m\u001b[0;34m\u001b[0m\u001b[0;34m\u001b[0m\u001b[0m\n",
      "\u001b[0;31mKeyboardInterrupt\u001b[0m: "
     ]
    }
   ],
   "source": [
    "import time, random\n",
    "\n",
    "# 윷 던지기\n",
    "def drawYutSticks(num = 4):\n",
    "  sticks = []\n",
    "  specialStick = random.randint(0, 3);\n",
    "  for i in range(0, num):\n",
    "    result = random.choice([' ', 'X'])\n",
    "    stick = '[XXXX]' if result == ' ' else '{}'.format('[    ]' if i != specialStick else '[ x  ]')\n",
    "    sticks.append(stick)\n",
    "  return sticks\n",
    "\n",
    "# 윷 던지기 결과를 출력합니다.\n",
    "def printYutSticks(sticks, turn = 0):\n",
    "  print('{}'.format(turn).rjust(2) if turn != 0 else '', '|', ' '.join(sticks), '|', end = '\\r')\n",
    "\n",
    "print('Draw Yut Sticks Game')\n",
    "print('([ x  ] is for back-do)')\n",
    "print('----------------------------------')\n",
    "\n",
    "\n",
    "def main():\n",
    "  for x in range (0, 20):\n",
    "    yutResult = drawYutSticks()\n",
    "    printYutSticks(yutResult, x + 1)\n",
    "    time.sleep(1)\n",
    "\n",
    "main()"
   ]
  }
 ],
 "metadata": {
  "kernelspec": {
   "display_name": "Python 3.9.13 ('base')",
   "language": "python",
   "name": "python3"
  },
  "language_info": {
   "codemirror_mode": {
    "name": "ipython",
    "version": 3
   },
   "file_extension": ".py",
   "mimetype": "text/x-python",
   "name": "python",
   "nbconvert_exporter": "python",
   "pygments_lexer": "ipython3",
   "version": "3.9.13"
  },
  "orig_nbformat": 4,
  "vscode": {
   "interpreter": {
    "hash": "2a49e2d5a2e24894d0076b8ae8d12c53a67fb1c0f401bee2d0f45c6affe4905d"
   }
  }
 },
 "nbformat": 4,
 "nbformat_minor": 2
}
