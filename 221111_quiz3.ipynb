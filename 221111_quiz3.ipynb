{
 "cells": [
  {
   "cell_type": "code",
   "execution_count": 2,
   "metadata": {},
   "outputs": [
    {
     "name": "stdout",
     "output_type": "stream",
     "text": [
      "미네랄이 모자랍니다.\n",
      "남은 미네랄: 40\n"
     ]
    }
   ],
   "source": [
    "# 클래스: 사령부\n",
    "class CommandCenter:\n",
    "  # 멤버 함수: 유닛 생성\n",
    "  def produce(self, mineral):\n",
    "    if mineral >= 50:\n",
    "        print(\"건설로봇이 생성되었습니다.\")\n",
    "        mineral = mineral -50\n",
    "    else:\n",
    "        print(\"미네랄이 모자랍니다.\") \n",
    "    return mineral\n",
    "\n",
    "\n",
    "# 위에서 작성한 클래스를 이용한 코드작성\n",
    "def main():\n",
    "  mineral = 40\n",
    "\n",
    "  # 사령부 생성\n",
    "  commandCenter = CommandCenter()\n",
    "\n",
    "  # 건설로봇 생산\n",
    "  mineral = commandCenter.produce(mineral)\n",
    "\n",
    "  # 남은 미네랄 출력\n",
    "  print(f\"남은 미네랄: {mineral}\")\n",
    "\n",
    "# 메인 함수 호출\n",
    "main()"
   ]
  },
  {
   "cell_type": "code",
   "execution_count": 15,
   "metadata": {},
   "outputs": [
    {
     "name": "stdout",
     "output_type": "stream",
     "text": [
      "건설로봇이 생성되었습니다.\n",
      "화염방사병이 생성되었습니다.\n",
      "BoxeR님의 보유 미네랄 양은 950 이며, 보유 가스 양은 1000 입니다.\n",
      "Firebathero님의 보유 미네랄 양은 950 이며, 보유 가스 양은 975 입니다.\n"
     ]
    }
   ],
   "source": [
    "# 클래스: 사령부\n",
    "class CommandCenter:\n",
    "  # 생성자\n",
    "  def __init__(self, player):\n",
    "    self.player = player\n",
    "\n",
    "  # 멤버 함수: 유닛 생성\n",
    "  def produce(self):\n",
    "    self.player.mineral -= 50\n",
    "    print(\"건설로봇이 생성되었습니다.\")\n",
    "    \n",
    "# 클래스: 병영\n",
    "class Barracks:\n",
    "    # 생성자\n",
    "    def __init__(self, player):\n",
    "        self.player = player\n",
    "        \n",
    "    # 멤버 함수: 유닛 생성\n",
    "    def produce(self):\n",
    "        self.player.mineral -= 50\n",
    "        self.player.gas -= 25\n",
    "        print(\"화염방사병이 생성되었습니다.\")\n",
    "    \n",
    "\n",
    "# 클래스: 플레이어\n",
    "class Player:\n",
    "  # 생성자\n",
    "  def __init__(self, name):\n",
    "    self.name = name\n",
    "    self.mineral = 1000\n",
    "    self.gas = 1000\n",
    "\n",
    "  # 멤버 함수: 생성자와 같이 예약된 멤버 함수이며, 인스턴스를 문자열로 표현할 때 원하는 형태로 표현할 수 있다.\n",
    "  # 전에 실습했던 printInfo 와 유사한 역할을 한다. (차이점은 print 하지 않고 문자로 반환한다는 점)\n",
    "  def __str__(self):\n",
    "    return f\"{self.name}님의 보유 미네랄 양은 {self.mineral} 이며, 보유 가스 양은 {self.gas} 입니다.\"\n",
    "\n",
    "\n",
    "# 위에서 작성한 클래스를 이용한 코드작성\n",
    "def main():\n",
    "  # 초기 플레이어 설정\n",
    "  # 플레이어와 시작 건물 / 유닛을 생성한다.\n",
    "  임요환 = Player('BoxeR')\n",
    "  SCV = CommandCenter(임요환)\n",
    "  \n",
    "  이성은 = Player('Firebathero')\n",
    "  Firebat = Barracks(이성은)\n",
    "\n",
    "  # SCV 생산\n",
    "  SCV.produce()\n",
    "  \n",
    "  # Firebat 생산\n",
    "  Firebat.produce()\n",
    "\n",
    "  # 플레이어 정보 출력\n",
    "  print(임요환)\n",
    "  print(이성은)\n",
    "\n",
    "# 메인 함수 호출\n",
    "main()"
   ]
  },
  {
   "cell_type": "code",
   "execution_count": 4,
   "metadata": {},
   "outputs": [
    {
     "name": "stdout",
     "output_type": "stream",
     "text": [
      "건설로봇이 생성되었습니다.\n",
      "화염방사병이 생성되었습니다.\n",
      "BoxeR님의 미네랄 보유양은 90, 가스 보유양은 25  입니다.\n",
      "Firebathero님의 미네랄 보유양은 50, 가스 보유양은 25  입니다.\n"
     ]
    }
   ],
   "source": [
    "class SCV:\n",
    "    def __init__(self, player):\n",
    "        self.player = player\n",
    "       \n",
    "    def harvest(self):\n",
    "        self.player.mineral += 8\n",
    "       \n",
    "\n",
    "class CommandCenter:\n",
    "    def __init__(self, player): #여기서 player와 SCV에서 player 같은건지\n",
    "        self.player = player\n",
    "       \n",
    "    def produce(self):\n",
    "        self.player.mineral == 50\n",
    "        print(\"건설로봇이 생성되었습니다.\")\n",
    "        return SCV(self.player) #SCV를 생산 후 SCV class를 불러와서 채굴?, 여기서 player가 같아지는건지\n",
    "   \n",
    "class Barracks:\n",
    "    def __init__(self, player):\n",
    "        self.player = player\n",
    "       \n",
    "    def produce(self):\n",
    "        self.player.mineral == 50\n",
    "        self.player.gas == 25\n",
    "        print(\"화염방사병이 생성되었습니다.\")\n",
    "   \n",
    "   \n",
    "class Player:\n",
    "    def __init__(self, ID):\n",
    "        self.ID = ID\n",
    "        self.mineral = 50 #mineral이 self, name외에 없는데 여기서 추가 가능\n",
    "        self.gas = 25\n",
    "       \n",
    "    def __str__(self):\n",
    "        return f\"{self.ID}님의 미네랄 보유양은 {self.mineral}, 가스 보유양은 {self.gas}  입니다.\" #print(@@)으로 그냥 문구 출력?\n",
    "   \n",
    "\n",
    "def main():\n",
    "    임요환 = Player('BoxeR')\n",
    "    임커맨드 = CommandCenter(임요환) #player input에 왜 임요환만 들어가야 되는건지\n",
    "    scvlist = [SCV(임요환), SCV(임요환), SCV(임요환), SCV(임요환)] #여기도 player에 임요환만 들어가야 되는건지\n",
    "\n",
    "    이성은 = Player('Firebathero')\n",
    "    이배럭 = Barracks(이성은)\n",
    "\n",
    "    newSCV = 임커맨드.produce() #SCV 5개\n",
    "    scvlist.append(newSCV)\n",
    "\n",
    "    for scv in scvlist:\n",
    "        scv.harvest()\n",
    "    \n",
    "    newFirebat = 이배럭.produce()\n",
    "\n",
    "    print(임요환)\n",
    "    print(이성은)\n",
    "    \n",
    "main()"
   ]
  }
 ],
 "metadata": {
  "kernelspec": {
   "display_name": "Python 3.9.13 ('base')",
   "language": "python",
   "name": "python3"
  },
  "language_info": {
   "codemirror_mode": {
    "name": "ipython",
    "version": 3
   },
   "file_extension": ".py",
   "mimetype": "text/x-python",
   "name": "python",
   "nbconvert_exporter": "python",
   "pygments_lexer": "ipython3",
   "version": "3.9.13"
  },
  "orig_nbformat": 4,
  "vscode": {
   "interpreter": {
    "hash": "2a49e2d5a2e24894d0076b8ae8d12c53a67fb1c0f401bee2d0f45c6affe4905d"
   }
  }
 },
 "nbformat": 4,
 "nbformat_minor": 2
}
